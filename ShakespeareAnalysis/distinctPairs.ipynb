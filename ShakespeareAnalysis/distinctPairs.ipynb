{
 "cells": [
  {
   "cell_type": "markdown",
   "metadata": {},
   "source": [
    "## Count the distinct token pairs in Shakespeare's work"
   ]
  },
  {
   "cell_type": "code",
   "execution_count": 1,
   "metadata": {},
   "outputs": [],
   "source": [
    "from simple_tokenize import simple_tokenize\n",
    "from itertools import permutations\n",
    "from pyspark import SparkContext, SparkConf\n",
    "sc = SparkContext(appName=\"MyApp\", master=\"local[2]\")"
   ]
  },
  {
   "cell_type": "code",
   "execution_count": 2,
   "metadata": {},
   "outputs": [],
   "source": [
    "# Returns the count of distinct pairs in `Shakespeare.txt`\n",
    "def count_distinct_pairs():\n",
    "    # read in text file as RDD\n",
    "    lines = sc.textFile('Shakespeare.txt') \n",
    "    # algorithm for distinct pairs:\n",
    "    #   1. tokenize by line\n",
    "    #   2. compute two token permutations by line\n",
    "    #   3. remove duplicate pairs\n",
    "    #   4. count distinct pairs\n",
    "    distPairs = lines.map(lambda line: simple_tokenize(line)) \\\n",
    "                     .flatMap(lambda line: permutations(line, 2)) \\\n",
    "                     .distinct() \\\n",
    "                     .count()\n",
    "    return distPairs"
   ]
  },
  {
   "cell_type": "code",
   "execution_count": 3,
   "metadata": {},
   "outputs": [
    {
     "data": {
      "text/plain": [
       "1971579"
      ]
     },
     "execution_count": 3,
     "metadata": {},
     "output_type": "execute_result"
    }
   ],
   "source": [
    "count_distinct_pairs()"
   ]
  }
 ],
 "metadata": {
  "kernelspec": {
   "display_name": "Python 3",
   "language": "python",
   "name": "python3"
  },
  "language_info": {
   "codemirror_mode": {
    "name": "ipython",
    "version": 3
   },
   "file_extension": ".py",
   "mimetype": "text/x-python",
   "name": "python",
   "nbconvert_exporter": "python",
   "pygments_lexer": "ipython3",
   "version": "3.7.3"
  }
 },
 "nbformat": 4,
 "nbformat_minor": 4
}
