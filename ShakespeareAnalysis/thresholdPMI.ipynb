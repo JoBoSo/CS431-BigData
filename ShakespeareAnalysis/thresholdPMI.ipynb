{
 "cells": [
  {
   "cell_type": "markdown",
   "metadata": {},
   "source": [
    "## Pointwise mutual information for tokens in Shakespeare's work that co-occur beyond a given threshold"
   ]
  },
  {
   "cell_type": "code",
   "execution_count": null,
   "metadata": {},
   "outputs": [],
   "source": [
    "from simple_tokenize import simple_tokenize\n",
    "from math import log\n",
    "from itertools import permutations\n",
    "from pyspark import SparkContext, SparkConf\n",
    "sc = SparkContext(appName=\"MyApp\", master=\"local[2]\")"
   ]
  },
  {
   "cell_type": "code",
   "execution_count": 2,
   "metadata": {},
   "outputs": [],
   "source": [
    "# Returns a list of tuples with the following format:\n",
    "# ((token1, token2), pmi, co-occurrence_count, token1_count, token2_count)\n",
    "def PMI(threshold):\n",
    "    # read in text file as RDD\n",
    "    lines = sc.textFile('Shakespeare.txt')\n",
    "    \n",
    "    # count line co-occurances for each pair\n",
    "    # filter for co-occurances >= threshold\n",
    "    pairCount = lines.map(lambda line: simple_tokenize(line)) \\\n",
    "                     .map(lambda line: list(set(line))) \\\n",
    "                     .flatMap(lambda line: permutations(line, 2)) \\\n",
    "                     .map(lambda pair: (pair, 1)) \\\n",
    "                     .reduceByKey(lambda x, y: x + y) \\\n",
    "                     .filter(lambda x: x[1] >= threshold)\n",
    "    \n",
    "    # count line occurances for each token\n",
    "    tokenCount = lines.map(lambda line: simple_tokenize(line)) \\\n",
    "                      .flatMap(lambda line: list(set(line))) \\\n",
    "                      .map(lambda token: (token, 1)) \\\n",
    "                      .reduceByKey(lambda x, y: x + y)\n",
    "\n",
    "    # PMI function\n",
    "    # pmi(nxy, nx, ny, nlines) takes n(x), n(y), n(x,y), and the number of lines and produces the PMI\n",
    "    # pmi: Int Int Int --> Int\n",
    "    def pmi(nxy, nx, ny, nlines=lines.count()):\n",
    "        pxy = nxy / nlines\n",
    "        px = nx / nlines\n",
    "        py = ny / nlines\n",
    "        pmi = log(pxy / (px * py), 10)\n",
    "        return pmi\n",
    "    \n",
    "    # join pairCount and tokenCount for each pair\n",
    "    #  algorithm:\n",
    "    #   join tokenCount on token 1\n",
    "    #   join tokenCount on token 2\n",
    "    #   compute pmi\n",
    "    #   organize results\n",
    "    pmiData = pairCount.map(lambda x: (x[0][0], (x[0][1], x[1]))).join(tokenCount) \\\n",
    "                       .map(lambda x: (x[1][0][0], (x[0], x[1][0][1], x[1][1]))).join(tokenCount) \\\n",
    "                       .map(lambda x: ((x[1][0][0], x[0]), x[1][0][1], x[1][0][2], x[1][1])) \\\n",
    "                       .map(lambda x: ((x[0], pmi(x[1], x[2], x[3])) + x[1:4]))\n",
    "\n",
    "    return pmiData.collect()"
   ]
  },
  {
   "cell_type": "code",
   "execution_count": 4,
   "metadata": {},
   "outputs": [
    {
     "data": {
      "text/plain": [
       "[(('i', 'of'), -0.08531809933104954, 2081, 18657, 16624),\n",
       " (('the', 'of'), 0.34294075191889295, 7266, 24300, 16624),\n",
       " (('and', 'of'), 0.028305447826683594, 3565, 24604, 16624),\n",
       " (('a', 'of'), 0.13551796879761382, 2463, 13280, 16624),\n",
       " (('i', 'have'), 0.447248246874471, 2450, 18657, 5742),\n",
       " (('i', 'that'), 0.11221751207929727, 2085, 18657, 10569),\n",
       " (('the', 'that'), 0.069458604407197, 2461, 24300, 10569),\n",
       " (('i', 'and'), -0.05037403533805645, 3338, 18657, 24604),\n",
       " (('of', 'and'), 0.028305447826683594, 3565, 16624, 24604),\n",
       " (('in', 'and'), 0.04031821796867754, 2340, 10614, 24604),\n",
       " (('the', 'and'), 0.0459349918330654, 5427, 24300, 24604),\n",
       " (('to', 'and'), 0.017522588038697152, 3815, 18237, 24604),\n",
       " (('a', 'and'), 0.0006198226234107661, 2672, 13280, 24604),\n",
       " (('you', 'and'), -0.05963472348492286, 2136, 12196, 24604),\n",
       " (('my', 'and'), 0.0056896916303759305, 2351, 11549, 24604),\n",
       " (('i', 'to'), 0.046852605922459045, 3095, 18657, 18237),\n",
       " (('the', 'to'), 0.05123525982989819, 4072, 24300, 18237),\n",
       " (('and', 'to'), 0.017522588038697152, 3815, 24604, 18237),\n",
       " (('a', 'to'), 0.048227962752620035, 2210, 13280, 18237),\n",
       " (('you', 'to'), 0.1276718775908892, 2437, 12196, 18237),\n",
       " (('i', 'you'), 0.18638190375571081, 2854, 18657, 12196),\n",
       " (('to', 'you'), 0.1276718775908892, 2437, 18237, 12196),\n",
       " (('and', 'you'), -0.05963472348492286, 2136, 24604, 12196),\n",
       " (('i', 'am'), 0.8031984391122662, 2053, 18657, 2120),\n",
       " (('the', 'in'), 0.13332315333353123, 2863, 24300, 10614),\n",
       " (('and', 'in'), 0.04031821796867754, 2340, 24604, 10614),\n",
       " (('i', 'the'), -0.08302344185158504, 3058, 18657, 24300),\n",
       " (('of', 'the'), 0.34294075191889295, 7266, 16624, 24300),\n",
       " (('in', 'the'), 0.13332315333353123, 2863, 10614, 24300),\n",
       " (('that', 'the'), 0.069458604407197, 2461, 10569, 24300),\n",
       " (('to', 'the'), 0.05123525982989819, 4072, 18237, 24300),\n",
       " (('and', 'the'), 0.0459349918330654, 5427, 24604, 24300),\n",
       " (('is', 'the'), 0.14639570960345152, 2434, 8756, 24300),\n",
       " (('i', 'not'), 0.2812323291754297, 2396, 18657, 8230),\n",
       " (('i', 'will'), 0.456978919724415, 2108, 18657, 4831),\n",
       " (('of', 'i'), -0.08531809933104954, 2081, 16624, 18657),\n",
       " (('have', 'i'), 0.447248246874471, 2450, 5742, 18657),\n",
       " (('that', 'i'), 0.11221751207929727, 2085, 10569, 18657),\n",
       " (('the', 'i'), -0.08302344185158504, 3058, 24300, 18657),\n",
       " (('to', 'i'), 0.046852605922459045, 3095, 18237, 18657),\n",
       " (('and', 'i'), -0.05037403533805645, 3338, 24604, 18657),\n",
       " (('a', 'i'), 0.024563942932865457, 2141, 13280, 18657),\n",
       " (('you', 'i'), 0.18638190375571081, 2854, 12196, 18657),\n",
       " (('am', 'i'), 0.8031984391122662, 2053, 2120, 18657),\n",
       " (('my', 'i'), 0.16722948986833625, 2586, 11549, 18657),\n",
       " (('not', 'i'), 0.2812323291754297, 2396, 8230, 18657),\n",
       " (('will', 'i'), 0.456978919724415, 2108, 4831, 18657),\n",
       " (('the', 'is'), 0.14639570960345152, 2434, 24300, 8756),\n",
       " (('i', 'my'), 0.16722948986833625, 2586, 18657, 11549),\n",
       " (('and', 'my'), 0.0056896916303759305, 2351, 24604, 11549),\n",
       " (('i', 'a'), 0.024563942932865457, 2141, 18657, 13280),\n",
       " (('of', 'a'), 0.13551796879761382, 2463, 16624, 13280),\n",
       " (('to', 'a'), 0.048227962752620035, 2210, 18237, 13280),\n",
       " (('and', 'a'), 0.0006198226234107661, 2672, 24604, 13280)]"
      ]
     },
     "execution_count": 4,
     "metadata": {},
     "output_type": "execute_result"
    }
   ],
   "source": [
    "# PMI for tokens that co-occur on >= 2000 lines\n",
    "PMI(2000)"
   ]
  }
 ],
 "metadata": {
  "kernelspec": {
   "display_name": "Python 3",
   "language": "python",
   "name": "python3"
  },
  "language_info": {
   "codemirror_mode": {
    "name": "ipython",
    "version": 3
   },
   "file_extension": ".py",
   "mimetype": "text/x-python",
   "name": "python",
   "nbconvert_exporter": "python",
   "pygments_lexer": "ipython3",
   "version": "3.7.3"
  }
 },
 "nbformat": 4,
 "nbformat_minor": 4
}
