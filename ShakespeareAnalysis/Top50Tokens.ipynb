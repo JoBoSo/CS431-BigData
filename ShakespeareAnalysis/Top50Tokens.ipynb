{
 "cells": [
  {
   "cell_type": "code",
   "execution_count": 1,
   "metadata": {},
   "outputs": [],
   "source": [
    "from simple_tokenize import simple_tokenize"
   ]
  },
  {
   "cell_type": "code",
   "execution_count": 2,
   "metadata": {},
   "outputs": [],
   "source": [
    "# top_50_tokens(filename): produces the top 50 tokens in filename.\n",
    "# top_50_tokens: Str --> (List of(List of (Any of Str Int)))\n",
    "# Requires: filename is a text file.\n",
    "def top_50_tokens(filename='Shakespeare.txt'):\n",
    "    # 1. store all tokens in a list\n",
    "    all_tokens = []\n",
    "    with open(filename) as f:\n",
    "        for line in f:\n",
    "            all_tokens += simple_tokenize(line)\n",
    "    \n",
    "    # 2. sort all_tokens so that matching tokens are next to each other\n",
    "    all_tokens.sort()\n",
    "    \n",
    "    # 3. count instances of tokens and store them in a list of lists of the form [[token, count],...]\n",
    "    counts = []\n",
    "    curr_count = 1\n",
    "    for i in range(0, len(all_tokens)):\n",
    "        if i == 0 and all_tokens[0] != all_tokens[1]:\n",
    "            counts += [[all_tokens[0], 1]]\n",
    "        elif all_tokens[i] != all_tokens[i-1]:\n",
    "            counts += [[all_tokens[i-1], curr_count]]\n",
    "            curr_count = 1\n",
    "        else:\n",
    "            curr_count += 1\n",
    "    \n",
    "    # 4. sort counts in descending order of token frequency\n",
    "    counts.sort(key=lambda i: i[1], reverse=True)\n",
    "    \n",
    "    # 5. get and return the list of the 50 most frequently appearing tokens and their frequency\n",
    "    top_50_tokens_list = counts[:50]\n",
    "    return top_50_tokens_list"
   ]
  },
  {
   "cell_type": "code",
   "execution_count": 3,
   "metadata": {},
   "outputs": [
    {
     "data": {
      "text/plain": [
       "[['the', 27378],\n",
       " ['and', 26082],\n",
       " ['i', 20717],\n",
       " ['to', 19661],\n",
       " ['of', 17473],\n",
       " ['a', 14723],\n",
       " ['you', 13630],\n",
       " ['my', 12490],\n",
       " ['in', 10996],\n",
       " ['that', 10915],\n",
       " ['is', 9137],\n",
       " ['not', 8512],\n",
       " ['with', 7778],\n",
       " ['me', 7777],\n",
       " ['it', 7692],\n",
       " ['for', 7578],\n",
       " ['be', 6867],\n",
       " ['his', 6859],\n",
       " ['your', 6657],\n",
       " ['this', 6606],\n",
       " ['but', 6277],\n",
       " ['he', 6260],\n",
       " ['have', 5885],\n",
       " ['as', 5744],\n",
       " ['thou', 5491],\n",
       " ['him', 5205],\n",
       " ['so', 5056],\n",
       " ['will', 4977],\n",
       " ['what', 4469],\n",
       " ['thy', 4034],\n",
       " ['all', 3923],\n",
       " ['her', 3850],\n",
       " ['no', 3797],\n",
       " ['by', 3768],\n",
       " ['do', 3753],\n",
       " ['shall', 3592],\n",
       " ['if', 3500],\n",
       " ['are', 3405],\n",
       " ['we', 3298],\n",
       " ['thee', 3180],\n",
       " ['lord', 3062],\n",
       " ['on', 3062],\n",
       " ['our', 3061],\n",
       " ['king', 2871],\n",
       " ['good', 2834],\n",
       " ['now', 2789],\n",
       " ['sir', 2763],\n",
       " ['from', 2640],\n",
       " ['o', 2621],\n",
       " ['come', 2519]]"
      ]
     },
     "execution_count": 3,
     "metadata": {},
     "output_type": "execute_result"
    }
   ],
   "source": [
    "# produce the top 50 tokens\n",
    "top_50_tokens()"
   ]
  }
 ],
 "metadata": {
  "kernelspec": {
   "display_name": "Python 3",
   "language": "python",
   "name": "python3"
  },
  "language_info": {
   "codemirror_mode": {
    "name": "ipython",
    "version": 3
   },
   "file_extension": ".py",
   "mimetype": "text/x-python",
   "name": "python",
   "nbconvert_exporter": "python",
   "pygments_lexer": "ipython3",
   "version": "3.7.3"
  }
 },
 "nbformat": 4,
 "nbformat_minor": 2
}
