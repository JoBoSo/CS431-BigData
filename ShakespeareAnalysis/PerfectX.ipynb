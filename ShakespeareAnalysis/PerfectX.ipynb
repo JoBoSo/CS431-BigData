{
 "cells": [
  {
   "cell_type": "code",
   "execution_count": 1,
   "metadata": {},
   "outputs": [],
   "source": [
    "from simple_tokenize import simple_tokenize"
   ]
  },
  {
   "cell_type": "code",
   "execution_count": 2,
   "metadata": {},
   "outputs": [],
   "source": [
    "# perfect_x(filename): produces a dictionary of words that appear after the word 'perfect' in Shakespeare.txt\n",
    "#   more than one time.\n",
    "# perfect_x: Str --> Dict\n",
    "def perfect_x(filename = 'Shakespeare.txt'):\n",
    "    # get all x, a token that sits to the right of an instance of 'perfect'\n",
    "    xlist = list()\n",
    "    with open(filename) as f:\n",
    "        for line in f:\n",
    "            t = simple_tokenize(line)\n",
    "            for i in range(0, len(t)-1):\n",
    "                if t[i] == 'perfect':\n",
    "                    x = t[i+1]\n",
    "                    xlist += [x]\n",
    "                    \n",
    "    # count and store all x's > 1\n",
    "    perfect_x_list = dict()\n",
    "    for x in xlist:\n",
    "        if x not in perfect_x_list:\n",
    "            xcount = xlist.count(x)\n",
    "            if xcount > 1:\n",
    "                perfect_x_list[x] = xcount\n",
    "    \n",
    "    return perfect_x_list"
   ]
  },
  {
   "cell_type": "code",
   "execution_count": 3,
   "metadata": {},
   "outputs": [
    {
     "data": {
      "text/plain": [
       "{'honour': 2, 'in': 4, 'love': 4, 'yellow': 2, 'that': 2}"
      ]
     },
     "execution_count": 3,
     "metadata": {},
     "output_type": "execute_result"
    }
   ],
   "source": [
    "perfect_x()"
   ]
  }
 ],
 "metadata": {
  "kernelspec": {
   "display_name": "Python 3",
   "language": "python",
   "name": "python3"
  },
  "language_info": {
   "codemirror_mode": {
    "name": "ipython",
    "version": 3
   },
   "file_extension": ".py",
   "mimetype": "text/x-python",
   "name": "python",
   "nbconvert_exporter": "python",
   "pygments_lexer": "ipython3",
   "version": "3.7.3"
  }
 },
 "nbformat": 4,
 "nbformat_minor": 2
}
