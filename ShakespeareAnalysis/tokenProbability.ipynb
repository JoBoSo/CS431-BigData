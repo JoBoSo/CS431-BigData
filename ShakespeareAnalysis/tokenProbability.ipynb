{
 "cells": [
  {
   "cell_type": "markdown",
   "metadata": {},
   "source": [
    "## Top 50 tokens according to their probability of occuring on any given line of Shakespeare's work"
   ]
  },
  {
   "cell_type": "code",
   "execution_count": 2,
   "metadata": {},
   "outputs": [],
   "source": [
    "from simple_tokenize import simple_tokenize\n",
    "from pyspark import SparkContext, SparkConf\n",
    "sc = SparkContext(appName=\"MyApp\", master=\"local[2]\")"
   ]
  },
  {
   "cell_type": "code",
   "execution_count": 3,
   "metadata": {},
   "outputs": [],
   "source": [
    "# Returns a list of the top 50 (probability, count, token) tuples, ordered by probability\n",
    "def top_50_tokens_probabilities():\n",
    "    lines = sc.textFile('Shakespeare.txt') # read-in file as RDD\n",
    "    \n",
    "    nlines = lines.count() # line count\n",
    "    \n",
    "    wordCount = lines.flatMap(simple_tokenize) \\\n",
    "                     .map(lambda token: (token, 1)) \\\n",
    "                     .reduceByKey(lambda x, y: x + y) # word count for each word\n",
    "\n",
    "    # algorithm for p(x) - each step corresponds to a spark method call:\n",
    "    #    1. tokenize on the line level\n",
    "    #    2. remove duplicate tokens on the line level and flatten\n",
    "    #    3. prepare tokens for reduction (counting)\n",
    "    #    4. count the number of lines each distinct token appears on\n",
    "    #    5. compute probability of token appearing on any given line\n",
    "    #    6. join with word count\n",
    "    #    7. organize data as (probability, count, token)\n",
    "    #    8. sort by descending probability\n",
    "    wordProbability = lines.map(simple_tokenize) \\\n",
    "                           .flatMap(lambda line: list(set(line))) \\\n",
    "                           .map(lambda token: (token, 1)) \\\n",
    "                           .reduceByKey(lambda x, y: x + y) \\\n",
    "                           .map(lambda token: (token[0], token[1] / nlines)) \\\n",
    "                           .join(wordCount) \\\n",
    "                           .map(lambda tup: (tup[1][0], tup[1][1], tup[0])) \\\n",
    "                           .sortBy(lambda x: x[0], ascending=False)\n",
    "\n",
    "    return wordProbability.take(50) # return the tokens with the 50 highest probabilities"
   ]
  },
  {
   "cell_type": "code",
   "execution_count": 4,
   "metadata": {},
   "outputs": [
    {
     "data": {
      "text/plain": [
       "[(0.2009178657172255, 26082, 'and'),\n",
       " (0.19843538192686472, 27378, 'the'),\n",
       " (0.1523542765682928, 20717, 'i'),\n",
       " (0.148924529226347, 19661, 'to'),\n",
       " (0.1357526662202551, 17473, 'of'),\n",
       " (0.10844534452628657, 14723, 'a'),\n",
       " (0.09959332995802643, 13630, 'you'),\n",
       " (0.09430988583840991, 12490, 'my'),\n",
       " (0.08667461497003054, 10996, 'in'),\n",
       " (0.08630714204053634, 10915, 'that'),\n",
       " (0.07150206601447026, 9137, 'is'),\n",
       " (0.06720671577193814, 8512, 'not'),\n",
       " (0.06167012363422561, 7778, 'with'),\n",
       " (0.06039621747864574, 7777, 'me'),\n",
       " (0.05982459292165477, 7578, 'for'),\n",
       " (0.05836286726877787, 7692, 'it'),\n",
       " (0.054402325695340446, 6867, 'be'),\n",
       " (0.05246696826667102, 6606, 'this'),\n",
       " (0.05228731483447386, 6859, 'his'),\n",
       " (0.050899083767495794, 6657, 'your'),\n",
       " (0.05067043394469941, 6277, 'but'),\n",
       " (0.0474938346208496, 6260, 'he'),\n",
       " (0.046889545803459144, 5885, 'have'),\n",
       " (0.04132028940534714, 5491, 'thou'),\n",
       " (0.04015254209606559, 5744, 'as'),\n",
       " (0.03952375508337552, 5205, 'him'),\n",
       " (0.03949109082297604, 5056, 'so'),\n",
       " (0.039450260497476686, 4977, 'will'),\n",
       " (0.03515491025494455, 4469, 'what'),\n",
       " (0.031227032941906614, 3923, 'all'),\n",
       " (0.030630910189616032, 4034, 'thy'),\n",
       " (0.029716310898430482, 3768, 'by'),\n",
       " (0.02961015205213216, 3753, 'do'),\n",
       " (0.028981365039442094, 3797, 'no'),\n",
       " (0.028858874062944028, 3592, 'shall'),\n",
       " (0.02820558885495435, 3850, 'her'),\n",
       " (0.028164758529454995, 3500, 'if'),\n",
       " (0.026915350569174736, 3405, 'are'),\n",
       " (0.0255189534370968, 3298, 'we'),\n",
       " (0.024890166424406734, 3180, 'thee'),\n",
       " (0.024294043672116156, 3062, 'on'),\n",
       " (0.024032729588920283, 3062, 'lord'),\n",
       " (0.023599928138627123, 3061, 'our'),\n",
       " (0.022946642930637442, 2871, 'king'),\n",
       " (0.022268859527348153, 2834, 'good'),\n",
       " (0.02224436133204854, 2789, 'now'),\n",
       " (0.021468585147560795, 2763, 'sir'),\n",
       " (0.021190938934165182, 2640, 'from'),\n",
       " (0.02067647683287331, 2621, 'o'),\n",
       " (0.020096686210782474, 2513, 'at')]"
      ]
     },
     "execution_count": 4,
     "metadata": {},
     "output_type": "execute_result"
    }
   ],
   "source": [
    "top_50_tokens_probabilities()"
   ]
  }
 ],
 "metadata": {
  "kernelspec": {
   "display_name": "Python 3",
   "language": "python",
   "name": "python3"
  },
  "language_info": {
   "codemirror_mode": {
    "name": "ipython",
    "version": 3
   },
   "file_extension": ".py",
   "mimetype": "text/x-python",
   "name": "python",
   "nbconvert_exporter": "python",
   "pygments_lexer": "ipython3",
   "version": "3.7.3"
  }
 },
 "nbformat": 4,
 "nbformat_minor": 4
}
